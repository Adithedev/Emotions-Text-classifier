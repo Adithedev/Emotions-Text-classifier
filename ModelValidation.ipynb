{
 "cells": [
  {
   "cell_type": "markdown",
   "id": "0427c22a",
   "metadata": {},
   "source": [
    "# Emotions Text Classifier project"
   ]
  },
  {
   "cell_type": "markdown",
   "id": "1f7746bb",
   "metadata": {},
   "source": [
    "### Project Prerequisites"
   ]
  },
  {
   "cell_type": "code",
   "execution_count": 26,
   "id": "e0a8a1bf",
   "metadata": {},
   "outputs": [],
   "source": [
    "import pandas as pd\n",
    "import numpy as np\n",
    "import spacy\n",
    "import joblib\n",
    "import seaborn as sns\n",
    "from sklearn.feature_extraction.text import CountVectorizer\n",
    "from matplotlib import pyplot as plt\n",
    "from sklearn import svm\n",
    "from sklearn.naive_bayes import MultinomialNB\n",
    "from sklearn.metrics import classification_report\n",
    "from sklearn.pipeline import Pipeline\n",
    "from sklearn.ensemble import RandomForestRegressor\n",
    "from sklearn.ensemble import RandomForestRegressor\n",
    "from sklearn.ensemble import GradientBoostingClassifier\n",
    "from sklearn.neighbors import KNeighborsClassifier\n",
    "from transformers import RobertaTokenizerFast, TFRobertaForSequenceClassification, pipeline"
   ]
  },
  {
   "cell_type": "code",
   "execution_count": 2,
   "id": "aedf5679",
   "metadata": {},
   "outputs": [],
   "source": [
    "plt.style.use(\"default\")\n",
    "plt.style.use(\"seaborn-darkgrid\")"
   ]
  },
  {
   "cell_type": "markdown",
   "id": "b22f0d24",
   "metadata": {},
   "source": [
    "### Preparing the Data"
   ]
  },
  {
   "cell_type": "code",
   "execution_count": 3,
   "id": "38d2f6fd",
   "metadata": {},
   "outputs": [],
   "source": [
    "df = pd.read_csv(\"Data/emotion-labels-train.csv\")\n",
    "df.head()\n",
    "text_df = pd.read_csv(\"Data/processed_data.csv\")\n",
    "label_df = pd.read_csv(\"Data/processed_labels.csv\")"
   ]
  },
  {
   "cell_type": "code",
   "execution_count": 4,
   "id": "f10cafa1",
   "metadata": {},
   "outputs": [
    {
     "data": {
      "text/html": [
       "<div>\n",
       "<style scoped>\n",
       "    .dataframe tbody tr th:only-of-type {\n",
       "        vertical-align: middle;\n",
       "    }\n",
       "\n",
       "    .dataframe tbody tr th {\n",
       "        vertical-align: top;\n",
       "    }\n",
       "\n",
       "    .dataframe thead th {\n",
       "        text-align: right;\n",
       "    }\n",
       "</style>\n",
       "<table border=\"1\" class=\"dataframe\">\n",
       "  <thead>\n",
       "    <tr style=\"text-align: right;\">\n",
       "      <th></th>\n",
       "      <th>text</th>\n",
       "      <th>label</th>\n",
       "    </tr>\n",
       "  </thead>\n",
       "  <tbody>\n",
       "    <tr>\n",
       "      <th>0</th>\n",
       "      <td>You must be knowing #blithe means (adj.)  Happ...</td>\n",
       "      <td>joy</td>\n",
       "    </tr>\n",
       "    <tr>\n",
       "      <th>1</th>\n",
       "      <td>Old saying 'A #smile shared is one gained for ...</td>\n",
       "      <td>joy</td>\n",
       "    </tr>\n",
       "    <tr>\n",
       "      <th>2</th>\n",
       "      <td>Bridget Jones' Baby was bloody hilarious 😅 #Br...</td>\n",
       "      <td>joy</td>\n",
       "    </tr>\n",
       "    <tr>\n",
       "      <th>3</th>\n",
       "      <td>@Elaminova sparkling water makes your life spa...</td>\n",
       "      <td>joy</td>\n",
       "    </tr>\n",
       "    <tr>\n",
       "      <th>4</th>\n",
       "      <td>I'm tired of everybody telling me to chill out...</td>\n",
       "      <td>joy</td>\n",
       "    </tr>\n",
       "  </tbody>\n",
       "</table>\n",
       "</div>"
      ],
      "text/plain": [
       "                                                text label\n",
       "0  You must be knowing #blithe means (adj.)  Happ...   joy\n",
       "1  Old saying 'A #smile shared is one gained for ...   joy\n",
       "2  Bridget Jones' Baby was bloody hilarious 😅 #Br...   joy\n",
       "3  @Elaminova sparkling water makes your life spa...   joy\n",
       "4  I'm tired of everybody telling me to chill out...   joy"
      ]
     },
     "execution_count": 4,
     "metadata": {},
     "output_type": "execute_result"
    }
   ],
   "source": [
    "test_df = pd.read_csv(\"Data/emotion-labels-test.csv\")\n",
    "test_df.head()"
   ]
  },
  {
   "cell_type": "code",
   "execution_count": 5,
   "id": "a6ed850c",
   "metadata": {},
   "outputs": [],
   "source": [
    "test_x = test_df[\"text\"]\n",
    "test_y = test_df[\"label\"]"
   ]
  },
  {
   "cell_type": "markdown",
   "id": "9dccfc5d",
   "metadata": {},
   "source": [
    "#### Checking for NaN's"
   ]
  }
 ],
 "metadata": {
  "kernelspec": {
   "display_name": "Python 3 (ipykernel)",
   "language": "python",
   "name": "python3"
  },
  "language_info": {
   "codemirror_mode": {
    "name": "ipython",
    "version": 3
   },
   "file_extension": ".py",
   "mimetype": "text/x-python",
   "name": "python",
   "nbconvert_exporter": "python",
   "pygments_lexer": "ipython3",
   "version": "3.9.13"
  }
 },
 "nbformat": 4,
 "nbformat_minor": 5
}
